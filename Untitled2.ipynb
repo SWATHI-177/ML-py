{
 "cells": [
  {
   "cell_type": "code",
   "execution_count": null,
   "id": "e87bbb1b-70a1-4c15-8df3-5b6cf4827814",
   "metadata": {},
   "outputs": [],
   "source": [
    "The break statement in Python is used to terminate a loop. This means whenever the\n",
    "interpreter encounters the break keyword, it simply exits out of the loop. Once it breaks out of\n",
    "the loop, the control shifts to the immediate next statement.\n",
    "Also, if the break statement is used inside a nested loop, it terminates the innermost loop and\n",
    "the control shifts to the next statement in the outer loop.\n",
    "\n"
   ]
  }
 ],
 "metadata": {
  "kernelspec": {
   "display_name": "Python 3 (ipykernel)",
   "language": "python",
   "name": "python3"
  },
  "language_info": {
   "codemirror_mode": {
    "name": "ipython",
    "version": 3
   },
   "file_extension": ".py",
   "mimetype": "text/x-python",
   "name": "python",
   "nbconvert_exporter": "python",
   "pygments_lexer": "ipython3",
   "version": "3.12.4"
  }
 },
 "nbformat": 4,
 "nbformat_minor": 5
}
